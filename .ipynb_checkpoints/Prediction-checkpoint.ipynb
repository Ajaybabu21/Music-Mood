{
 "cells": [
  {
   "cell_type": "code",
   "execution_count": null,
   "id": "959e5725",
   "metadata": {},
   "outputs": [],
   "source": [
    "import numpy as np\n",
    "import os\n",
    "import pandas as pd\n",
    "np.random.seed(42)\n",
    "\n",
    "# To plot pretty figures\n",
    "%matplotlib inline\n",
    "import matplotlib as mpl\n",
    "import matplotlib.pyplot as plt\n",
    "mpl.rc('axes', labelsize=14)\n",
    "mpl.rc('xtick', labelsize=12)\n",
    "mpl.rc('ytick', labelsize=12)\n",
    "import seaborn as sns"
   ]
  },
  {
   "cell_type": "code",
   "execution_count": null,
   "id": "894d4ae7",
   "metadata": {},
   "outputs": [],
   "source": [
    "path='data_moods.csv'\n",
    "#data=pd.read_csv('data_moods.csv')\n",
    "data = pd.read_csv('data_moods.csv', encoding='unicode_escape')\n",
    "features = data[['danceability','liveness','acousticness','loudness','speechiness','valence','energy']]\n",
    "from sklearn.cluster import KMeans\n",
    "\n",
    "sse = {}\n",
    "K = range(1,12)\n",
    "for k in K:\n",
    "    km = KMeans(n_clusters=k)\n",
    "    km = km.fit(features)\n",
    "    sse[k]=km.inertia_\n",
    "    kmeans = KMeans(n_clusters=4)\n",
    "kmeans.fit(features)\n",
    "labels=kmeans.labels_\n",
    "rfm=data.assign(Cluster=labels)\n",
    "group=rfm.groupby([\"Cluster\"])\n",
    "group.agg({\n",
    "    \n",
    "    'danceability':'mean',\n",
    "    'loudness':'mean',\n",
    "     'valence':'mean',\n",
    "    'acousticness':['mean','count'],\n",
    "   \n",
    "\n",
    "}).round(1)\n",
    "rfm[rfm['Cluster']==1]\n",
    "rfm[rfm['Cluster']==2]\n",
    "rfm[rfm['Cluster']==3]\n",
    "rfm[rfm['Cluster']==0]"
   ]
  },
  {
   "cell_type": "code",
   "execution_count": null,
   "id": "c197bc1b",
   "metadata": {},
   "outputs": [],
   "source": []
  }
 ],
 "metadata": {
  "kernelspec": {
   "display_name": "Python 3 (ipykernel)",
   "language": "python",
   "name": "python3"
  },
  "language_info": {
   "codemirror_mode": {
    "name": "ipython",
    "version": 3
   },
   "file_extension": ".py",
   "mimetype": "text/x-python",
   "name": "python",
   "nbconvert_exporter": "python",
   "pygments_lexer": "ipython3",
   "version": "3.9.13"
  }
 },
 "nbformat": 4,
 "nbformat_minor": 5
}
