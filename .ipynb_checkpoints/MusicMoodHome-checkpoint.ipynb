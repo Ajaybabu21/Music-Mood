{
 "cells": [
  {
   "cell_type": "markdown",
   "id": "5c9f45e1",
   "metadata": {},
   "source": [
    "<img src=\"mm.jpeg\" alt=\"Alternative text\" height=\"350\" width=\"350\" />\n",
    "\n",
    "# Music Emotion Recognition\n",
    "\n",
    "### The process of Music Emotion Recognition algorithms are based on supervised learning, so it is necessary to first establish a learning library, that is, a music data set with emotion annotations. Then extract the features of the music to form a feature vector, use the feature vector and emotion annotations for training, and get the recognition model. Then perform feature extraction on the unknown music, and input the extracted feature vector into the trained recognition model for recognition, so as to obtain the emotion classification result of the unknown music.\n",
    "<table>\n",
    "<tr>\n",
    "\n",
    "<td><img src=\"mmm.jpeg\" alt=\"Alternative text\" height=\"350\" width=\"350\" /></td>\n",
    "<td><img src=\"mmmm.jpeg\" alt=\"Alternative text\" height=\"350\" width=\"350\" /></td>\n",
    "<td><img src=\"mood.jpeg\" alt=\"Alternative text\" height=\"350\" width=\"350\" /></td>\n",
    "</tr>\n",
    "</table>\n",
    "\n",
    "## Musical Emotion Model\n",
    "### The premise of automatic recognition of music emotion is to establish a reasonable emotional psychological model. Due to the subjectivity of emotions, the modeling methods of musical emotion mental models are also different. Up to now, psychologists have proposed several classic emotional psychological models by studying the relationship between music and emotion. Commonly used are discrete emotion models and continuous emotion models. The discrete emotion modeling method divides several typical different emotion categories, and each category can contain a group of similar emotion descriptions. The continuous dimension model represents human emotional state as points in a two-dimensional or three-dimensional continuous space, which is a continuous emotional psychological description method. \n",
    "<img src=\"d1.jpg\" alt=\"Alternative text\" height=\"250\" width=\"250\" />\n",
    "# Music Emotion Recognition Based on Improved Back Propagation Network\n",
    "## Improved Back Propagation Network\n",
    "### The introduction of the ABC algorithm (Zhou et al., 2021) improves the original BP neural network structure. The target output value of the ABC algorithm is used as the weight and threshold of the BP neural network. It can be seen that the ABC algorithm is mainly responsible for adjusting the weights and thresholds of the BP network, and feeds back the optimal weights and thresholds to the BP network. The BP neural network after the introduction of the ABC algorithm can greatly improve its global search ability, while reducing the probability of falling into a local optimal solution, and the convergence speed is faster. The execution process of the improved BP network is shown in Figure Below.\n",
    "<img src=\"d2.jpg\" alt=\"Alternative text\" height=\"350\" width=\"350\" />\n",
    "# Music Emotion Recognition Process Based on Improved Back Propagation Network\n",
    "\n",
    "## First, select the samples needed for the experiment in this article, and divide the samples into two parts: training samples and test samples. The training samples are used as initial data to train the MER model. Then use test samples to detect the correctness of the training process, so as to realize MER. The experimental process is shown in Figure\n",
    "<img src=\"d3.jpg\" alt=\"Alternative text\" height=\"350\" width=\"350\" />"
   ]
  },
  {
   "cell_type": "code",
   "execution_count": null,
   "id": "cf55ccbd",
   "metadata": {},
   "outputs": [],
   "source": []
  },
  {
   "cell_type": "code",
   "execution_count": null,
   "id": "6fd26639",
   "metadata": {},
   "outputs": [],
   "source": []
  }
 ],
 "metadata": {
  "kernelspec": {
   "display_name": "Python 3 (ipykernel)",
   "language": "python",
   "name": "python3"
  },
  "language_info": {
   "codemirror_mode": {
    "name": "ipython",
    "version": 3
   },
   "file_extension": ".py",
   "mimetype": "text/x-python",
   "name": "python",
   "nbconvert_exporter": "python",
   "pygments_lexer": "ipython3",
   "version": "3.9.13"
  }
 },
 "nbformat": 4,
 "nbformat_minor": 5
}
